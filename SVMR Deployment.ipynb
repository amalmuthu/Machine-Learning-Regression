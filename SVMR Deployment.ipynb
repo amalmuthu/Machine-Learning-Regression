{
 "cells": [
  {
   "cell_type": "code",
   "execution_count": 1,
   "id": "eab29315",
   "metadata": {},
   "outputs": [],
   "source": [
    "import pickle \n",
    "model = pickle.load(open(\"svmr.sav\",'rb'))\n"
   ]
  },
  {
   "cell_type": "code",
   "execution_count": 2,
   "id": "57b2c209",
   "metadata": {},
   "outputs": [
    {
     "name": "stdout",
     "output_type": "stream",
     "text": [
      "R&D:2000\n",
      "Admin200\n",
      "Marketing 1000\n",
      "State_flo 0 or 1:0\n",
      "State_new 0 or 1:1\n"
     ]
    }
   ],
   "source": [
    "rd_input=float(input(\"R&D:\"))\n",
    "admin_input=float(input(\"Admin\"))\n",
    "mark_input=float(input(\"Marketing \"))\n",
    "flo_input=int(input(\"State_flo 0 or 1:\"))\n",
    "new_input=int(input(\"State_new 0 or 1:\"))\n"
   ]
  },
  {
   "cell_type": "code",
   "execution_count": 3,
   "id": "8ab82d47",
   "metadata": {},
   "outputs": [
    {
     "name": "stderr",
     "output_type": "stream",
     "text": [
      "C:\\Users\\lenovo\\anaconda3\\Lib\\site-packages\\sklearn\\base.py:493: UserWarning: X does not have valid feature names, but SVR was fitted with feature names\n",
      "  warnings.warn(\n"
     ]
    }
   ],
   "source": [
    "#models output after inputs\n",
    "result=model.predict([[rd_input,admin_input,mark_input,flo_input,new_input]])"
   ]
  },
  {
   "cell_type": "code",
   "execution_count": 4,
   "id": "a46b5eb2",
   "metadata": {},
   "outputs": [
    {
     "data": {
      "text/plain": [
       "array([103445.87321894])"
      ]
     },
     "execution_count": 4,
     "metadata": {},
     "output_type": "execute_result"
    }
   ],
   "source": [
    "result\n"
   ]
  },
  {
   "cell_type": "code",
   "execution_count": null,
   "id": "a2acf86c",
   "metadata": {},
   "outputs": [],
   "source": []
  }
 ],
 "metadata": {
  "kernelspec": {
   "display_name": "Python 3 (ipykernel)",
   "language": "python",
   "name": "python3"
  },
  "language_info": {
   "codemirror_mode": {
    "name": "ipython",
    "version": 3
   },
   "file_extension": ".py",
   "mimetype": "text/x-python",
   "name": "python",
   "nbconvert_exporter": "python",
   "pygments_lexer": "ipython3",
   "version": "3.11.4"
  }
 },
 "nbformat": 4,
 "nbformat_minor": 5
}
